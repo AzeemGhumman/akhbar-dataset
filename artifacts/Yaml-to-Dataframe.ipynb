{
 "cells": [
  {
   "cell_type": "markdown",
   "metadata": {},
   "source": [
    "# Data Loading Scripts | Loads yaml files into one Dataframe"
   ]
  },
  {
   "cell_type": "code",
   "execution_count": 22,
   "metadata": {},
   "outputs": [],
   "source": [
    "import pandas as pd\n",
    "import yaml\n",
    "import os\n",
    "import sys\n",
    "from hurry.filesize import size\n",
    "from joblib import Parallel, delayed"
   ]
  },
  {
   "cell_type": "code",
   "execution_count": 2,
   "metadata": {},
   "outputs": [],
   "source": [
    "def yaml_to_df(file_path):\n",
    "    '''\n",
    "    Reads the yaml data file and returns it as a Dataframe object.\n",
    "    '''\n",
    "    with open(file_path, \"r\", encoding = \"ISO-8859-1\") as stream:\n",
    "        return pd.DataFrame(yaml.load_all(stream))"
   ]
  },
  {
   "cell_type": "code",
   "execution_count": 26,
   "metadata": {},
   "outputs": [
    {
     "name": "stdout",
     "output_type": "stream",
     "text": [
      "Total files to process 150\n"
     ]
    }
   ],
   "source": [
    "# Folder path of the yaml data files\n",
    "folder = r\"data\" \n",
    "\n",
    "# Getting absolute paths of the yaml data files\n",
    "files = [os.path.join(folder,f) for f in os.listdir(folder) if '.yaml' in f] \n",
    "print(\"Total files to process %s\"%(len(files)))\n",
    "\n",
    "# Incase if you cant process all the files i.e. Low Memory. You can still explorer a subset of data.\n",
    "files_to_process = len(files) # change this to the number of files you need to process\n",
    "files = files[:file_to_process]"
   ]
  },
  {
   "cell_type": "markdown",
   "metadata": {},
   "source": [
    "### Parrallel data loading. "
   ]
  },
  {
   "cell_type": "code",
   "execution_count": 3,
   "metadata": {},
   "outputs": [
    {
     "name": "stdout",
     "output_type": "stream",
     "text": [
      "Total files to process 150\n"
     ]
    },
    {
     "name": "stderr",
     "output_type": "stream",
     "text": [
      "/home/umair/anaconda3/envs/wtte/lib/python3.7/site-packages/joblib/externals/loky/process_executor.py:706: UserWarning: A worker stopped while some jobs were given to the executor. This can be caused by a too short worker timeout or by a memory leak.\n",
      "  \"timeout or by a memory leak.\", UserWarning\n"
     ]
    }
   ],
   "source": [
    "# Assign the num of parallel processes you want to intiate \n",
    "# Note - it can be one less than the total logical processors you have in you machine\n",
    "Num_Cores = 19 \n",
    "data_df_list = Parallel(n_jobs=Num_Cores)(delayed(yaml_to_df)(file) for file in files)\n",
    "\n",
    "# Concatinate all the dataframes.\n",
    "data_df = pd.concat(data_df_list, ignore_index=True)"
   ]
  },
  {
   "cell_type": "code",
   "execution_count": 16,
   "metadata": {},
   "outputs": [
    {
     "data": {
      "text/html": [
       "<div>\n",
       "<style scoped>\n",
       "    .dataframe tbody tr th:only-of-type {\n",
       "        vertical-align: middle;\n",
       "    }\n",
       "\n",
       "    .dataframe tbody tr th {\n",
       "        vertical-align: top;\n",
       "    }\n",
       "\n",
       "    .dataframe thead th {\n",
       "        text-align: right;\n",
       "    }\n",
       "</style>\n",
       "<table border=\"1\" class=\"dataframe\">\n",
       "  <thead>\n",
       "    <tr style=\"text-align: right;\">\n",
       "      <th></th>\n",
       "      <th>authors</th>\n",
       "      <th>date</th>\n",
       "      <th>globalID</th>\n",
       "      <th>heading</th>\n",
       "      <th>language</th>\n",
       "      <th>publisher</th>\n",
       "      <th>summary</th>\n",
       "      <th>tags</th>\n",
       "      <th>text</th>\n",
       "      <th>url</th>\n",
       "    </tr>\n",
       "  </thead>\n",
       "  <tbody>\n",
       "    <tr>\n",
       "      <th>0</th>\n",
       "      <td>[The Newspaper's Staff Reporter]</td>\n",
       "      <td>29-06-2014</td>\n",
       "      <td>1360000</td>\n",
       "      <td>Court orders IO’s arrest in arson attack case</td>\n",
       "      <td>en</td>\n",
       "      <td>Dawn News</td>\n",
       "      <td>None</td>\n",
       "      <td>[Court orders IO’s arrest in arson attack case...</td>\n",
       "      <td>KARACHI: An anti-terrorism court on Saturday d...</td>\n",
       "      <td>http://www.dawn.com/news/1115837</td>\n",
       "    </tr>\n",
       "    <tr>\n",
       "      <th>1</th>\n",
       "      <td>[Reuters]</td>\n",
       "      <td>29-06-2014</td>\n",
       "      <td>1360001</td>\n",
       "      <td>Brilliant Rodriguez leads Colombia into last e...</td>\n",
       "      <td>en</td>\n",
       "      <td>Dawn News</td>\n",
       "      <td>None</td>\n",
       "      <td>[Brilliant Rodriguez leads Colombia into last ...</td>\n",
       "      <td>RIO JANEIRO: James Rodriguez scored a contende...</td>\n",
       "      <td>http://www.dawn.com/news/1115838</td>\n",
       "    </tr>\n",
       "    <tr>\n",
       "      <th>2</th>\n",
       "      <td>[The Newspaper's Staff Reporter]</td>\n",
       "      <td>29-06-2014</td>\n",
       "      <td>1360002</td>\n",
       "      <td>ICU at Valika Hospital inaugurated</td>\n",
       "      <td>en</td>\n",
       "      <td>Dawn News</td>\n",
       "      <td>None</td>\n",
       "      <td>[ICU at Valika Hospital inaugurated ,  Newspap...</td>\n",
       "      <td>KARACHI: An 11-bed intensive care unit, named ...</td>\n",
       "      <td>http://www.dawn.com/news/1115839</td>\n",
       "    </tr>\n",
       "    <tr>\n",
       "      <th>3</th>\n",
       "      <td>[Kashif Abbasi]</td>\n",
       "      <td>29-06-2014</td>\n",
       "      <td>1360003</td>\n",
       "      <td>Peace in Fata linked to abolition of FCR</td>\n",
       "      <td>en</td>\n",
       "      <td>Dawn News</td>\n",
       "      <td>None</td>\n",
       "      <td>[Peace in Fata linked to abolition of FCR  ,  ...</td>\n",
       "      <td>ISLAMABAD: For bringing prosperity and restori...</td>\n",
       "      <td>http://www.dawn.com/news/1115840</td>\n",
       "    </tr>\n",
       "    <tr>\n",
       "      <th>4</th>\n",
       "      <td>[Tariq Naqash]</td>\n",
       "      <td>29-06-2014</td>\n",
       "      <td>1360004</td>\n",
       "      <td>PPAJK awards ticket to ex-general’s spouse</td>\n",
       "      <td>en</td>\n",
       "      <td>Dawn News</td>\n",
       "      <td>None</td>\n",
       "      <td>[PPAJK awards ticket to ex, general’s spouse ,...</td>\n",
       "      <td>MUZAFFARABAD: The ruling People’s Party in Aza...</td>\n",
       "      <td>http://www.dawn.com/news/1115841</td>\n",
       "    </tr>\n",
       "  </tbody>\n",
       "</table>\n",
       "</div>"
      ],
      "text/plain": [
       "                            authors        date  globalID  \\\n",
       "0  [The Newspaper's Staff Reporter]  29-06-2014   1360000   \n",
       "1                         [Reuters]  29-06-2014   1360001   \n",
       "2  [The Newspaper's Staff Reporter]  29-06-2014   1360002   \n",
       "3                   [Kashif Abbasi]  29-06-2014   1360003   \n",
       "4                    [Tariq Naqash]  29-06-2014   1360004   \n",
       "\n",
       "                                             heading language  publisher  \\\n",
       "0      Court orders IO’s arrest in arson attack case       en  Dawn News   \n",
       "1  Brilliant Rodriguez leads Colombia into last e...       en  Dawn News   \n",
       "2                 ICU at Valika Hospital inaugurated       en  Dawn News   \n",
       "3           Peace in Fata linked to abolition of FCR       en  Dawn News   \n",
       "4         PPAJK awards ticket to ex-general’s spouse       en  Dawn News   \n",
       "\n",
       "  summary                                               tags  \\\n",
       "0    None  [Court orders IO’s arrest in arson attack case...   \n",
       "1    None  [Brilliant Rodriguez leads Colombia into last ...   \n",
       "2    None  [ICU at Valika Hospital inaugurated ,  Newspap...   \n",
       "3    None  [Peace in Fata linked to abolition of FCR  ,  ...   \n",
       "4    None  [PPAJK awards ticket to ex, general’s spouse ,...   \n",
       "\n",
       "                                                text  \\\n",
       "0  KARACHI: An anti-terrorism court on Saturday d...   \n",
       "1  RIO JANEIRO: James Rodriguez scored a contende...   \n",
       "2  KARACHI: An 11-bed intensive care unit, named ...   \n",
       "3  ISLAMABAD: For bringing prosperity and restori...   \n",
       "4  MUZAFFARABAD: The ruling People’s Party in Aza...   \n",
       "\n",
       "                                url  \n",
       "0  http://www.dawn.com/news/1115837  \n",
       "1  http://www.dawn.com/news/1115838  \n",
       "2  http://www.dawn.com/news/1115839  \n",
       "3  http://www.dawn.com/news/1115840  \n",
       "4  http://www.dawn.com/news/1115841  "
      ]
     },
     "execution_count": 16,
     "metadata": {},
     "output_type": "execute_result"
    }
   ],
   "source": [
    "data_df.head()"
   ]
  },
  {
   "cell_type": "code",
   "execution_count": 25,
   "metadata": {},
   "outputs": [
    {
     "data": {
      "text/plain": [
       "'9G'"
      ]
     },
     "execution_count": 25,
     "metadata": {},
     "output_type": "execute_result"
    }
   ],
   "source": [
    "# Memory Usage by the dataframe\n",
    "size(data_df.memory_usage(index=True, deep=True).sum())"
   ]
  },
  {
   "cell_type": "code",
   "execution_count": 14,
   "metadata": {},
   "outputs": [],
   "source": [
    "# Saving dataframe as pickle \n",
    "data_df.to_pickle(\"data.pkl\")"
   ]
  },
  {
   "cell_type": "markdown",
   "metadata": {},
   "source": [
    "## Quick Way : Load the data file "
   ]
  },
  {
   "cell_type": "code",
   "execution_count": 32,
   "metadata": {},
   "outputs": [],
   "source": [
    "# Loading dataframe as pickle \n",
    "data_new = pd.read_pickle(\"data.pkl\")"
   ]
  },
  {
   "cell_type": "code",
   "execution_count": null,
   "metadata": {},
   "outputs": [],
   "source": []
  }
 ],
 "metadata": {
  "kernelspec": {
   "display_name": "Python 3",
   "language": "python",
   "name": "python3"
  },
  "language_info": {
   "codemirror_mode": {
    "name": "ipython",
    "version": 3
   },
   "file_extension": ".py",
   "mimetype": "text/x-python",
   "name": "python",
   "nbconvert_exporter": "python",
   "pygments_lexer": "ipython3",
   "version": "3.7.3"
  }
 },
 "nbformat": 4,
 "nbformat_minor": 2
}
